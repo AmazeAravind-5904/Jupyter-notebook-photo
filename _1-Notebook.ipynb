{
 "cells": [
  {
   "cell_type": "markdown",
   "id": "f0e1dbd4-ffa8-4a77-bb8d-6c7deb5d336a",
   "metadata": {},
   "source": [
    "# Data Science Notebook"
   ]
  },
  {
   "cell_type": "markdown",
   "id": "934a5dd2-d1fc-4e83-b876-59966c1c3072",
   "metadata": {},
   "source": [
    "Welcome to this Data Science project where we explore key concepts and tools. In this journey, we'll learn about various languages, libraries, and tools used in the field of data science. Let's delve into the exciting world of data analysis"
   ]
  },
  {
   "cell_type": "markdown",
   "id": "e5de4c48-75a3-4320-9712-e4064420ffdc",
   "metadata": {},
   "source": [
    "Below is a list of languages that play a crucial role in the field:\n",
    "1. Python\n",
    "2. R\n",
    "3. Julia\n",
    "4. SQL\n",
    "5. Java\n",
    "6. Php\n",
    "7. Go\n",
    "8. Ruby\n",
    "9. C++\n",
    "10. Javascript"
   ]
  },
  {
   "cell_type": "markdown",
   "id": "773e4d8f-45c1-405a-877b-4e3c233abdf6",
   "metadata": {},
   "source": [
    ". Here's a list of some popular data science librarie:\r\n",
    "\r\n",
    "1. NumPy\r\n",
    "2. Pandas\r\n",
    "3. Matplotlib\r\n",
    "4. Seaborn\r\n",
    "5. Scikit-learn\r\n",
    "6. TensorFlow\r\n",
    "78. Keras\n",
    "9. Apache Spark\n",
    "10. Ggplot2. PyTorch\r\n"
   ]
  },
  {
   "cell_type": "markdown",
   "id": "f3c32963-f770-4e6b-b4d3-991e588fd2c6",
   "metadata": {},
   "source": [
    "| Data Science Tools |\n",
    "|------------------------------------------------------------------------|\n",
    "| Anaconda |\n",
    "| Jupyter Notebook |\n",
    "| R Studio |\n",
    "| Spyder |\n",
    "| Zeppelin |"
   ]
  },
  {
   "cell_type": "markdown",
   "id": "6ce99aaa-72d9-4d17-8907-c8d66fa139db",
   "metadata": {},
   "source": [
    "## Arithmetic Expression Examples\n",
    "\n",
    "In this section, we'll explore some basic arithmetic expressions using Python in Jupyter Notebook. Let's practice working with numbers, performing calculations, and understanding the fundamentals of arithmetic operations."
   ]
  },
  {
   "cell_type": "code",
   "execution_count": 3,
   "id": "1c31e53d-b013-470e-8fec-a08d17b52271",
   "metadata": {},
   "outputs": [
    {
     "name": "stdout",
     "output_type": "stream",
     "text": [
      "Multiplication Result: 40\n",
      "Addition Result: 15\n"
     ]
    }
   ],
   "source": [
    "# Multiplication\n",
    "result_multiply = 5 * 8\n",
    "print(\"Multiplication Result:\", result_multiply)\n",
    "\n",
    "# Addition\n",
    "result_addition = 12 + 3\n",
    "print(\"Addition Result:\", result_addition)"
   ]
  },
  {
   "cell_type": "code",
   "execution_count": 4,
   "id": "6c4e161a-3baa-45ae-b1a3-85984e39069a",
   "metadata": {},
   "outputs": [
    {
     "name": "stdout",
     "output_type": "stream",
     "text": [
      "150 minutes is equal to 2.5 hours.\n"
     ]
    }
   ],
   "source": [
    "# Conversion from minutes to hours\n",
    "minutes = 150\n",
    "hours = minutes / 60\n",
    "\n",
    "print(f\"{minutes} minutes is equal to {hours} hours.\")\n"
   ]
  },
  {
   "cell_type": "markdown",
   "id": "c96e87fd-a256-4edc-9ed9-ba8bc4392563",
   "metadata": {},
   "source": [
    "### Objectives:\n",
    "\n",
    "- Add Comments to code cell for better understanding.\n",
    "- Create markdown cells.\n",
    "- Understand the usage of various data science tools.\n",
    "- Practice arithmetic expressions and conversions.\n",
    "- Add ordered and unordered lists to markdown cells"
   ]
  },
  {
   "cell_type": "markdown",
   "id": "c3e994db-da3a-40aa-b899-6d299fd966f4",
   "metadata": {},
   "source": [
    "### Author:\n",
    "Aravind S\r\n"
   ]
  },
  {
   "cell_type": "code",
   "execution_count": null,
   "id": "a29915f8-85b0-4dd2-8636-bfcfb4bc9356",
   "metadata": {},
   "outputs": [],
   "source": []
  }
 ],
 "metadata": {
  "kernelspec": {
   "display_name": "Python 3 (ipykernel)",
   "language": "python",
   "name": "python3"
  },
  "language_info": {
   "codemirror_mode": {
    "name": "ipython",
    "version": 3
   },
   "file_extension": ".py",
   "mimetype": "text/x-python",
   "name": "python",
   "nbconvert_exporter": "python",
   "pygments_lexer": "ipython3",
   "version": "3.11.5"
  }
 },
 "nbformat": 4,
 "nbformat_minor": 5
}
